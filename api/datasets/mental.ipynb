{
 "cells": [
  {
   "cell_type": "code",
   "execution_count": null,
   "metadata": {},
   "outputs": [],
   "source": [
    "from sklearn.model_selection import train_test_split\n",
    "from sklearn.linear_model import LogisticRegression\n",
    "from sklearn.metrics import accuracy_score\n",
    "from sklearn.preprocessing import OneHotEncoder\n",
    "import pandas as pd\n",
    "import joblib\n",
    "import os \n",
    "\n",
    "df = pd.read_csv(\"./Dataset-Mental-Disorders.csv\")\n",
    "\n",
    "df = df.drop('Patient Number', axis=1)\n",
    "\n",
    "df['Expert Diagnose'] = df['Expert Diagnose'].map({'Normal': 0, \n",
    "                                                   'Bipolar Type-1': 1,\n",
    "                                                  'Bipolar Type-2': 2,\n",
    "                                                  'Depression': 3}).astype(int)\n",
    "\n",
    "\n",
    "X = df.drop(columns=['Expert Diagnose'],axis=1)\n",
    "y = df['Expert Diagnose']\n",
    "\n",
    "X_train, X_test, y_train, y_test = train_test_split(X, y, test_size=0.2, random_state=42)\n",
    "\n",
    "encoder = OneHotEncoder(handle_unknown='ignore')\n",
    "X_train_encoded = encoder.fit_transform(X_train)\n",
    "X_test_encoded = encoder.transform(X_test)\n",
    "\n",
    "logreg = LogisticRegression()\n",
    "logreg.fit(X_train_encoded, y_train)\n",
    "\n",
    "joblib.dump(logreg, 'mental_disorder_model.pkl')"
   ]
  }
 ],
 "metadata": {
  "kernelspec": {
   "display_name": ".venv",
   "language": "python",
   "name": "python3"
  },
  "language_info": {
   "codemirror_mode": {
    "name": "ipython",
    "version": 3
   },
   "file_extension": ".py",
   "mimetype": "text/x-python",
   "name": "python",
   "nbconvert_exporter": "python",
   "pygments_lexer": "ipython3",
   "version": "3.11.2"
  }
 },
 "nbformat": 4,
 "nbformat_minor": 2
}
