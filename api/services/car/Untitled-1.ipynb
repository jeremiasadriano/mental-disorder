{
 "cells": [
  {
   "cell_type": "code",
   "execution_count": 2,
   "metadata": {},
   "outputs": [
    {
     "data": {
      "text/plain": [
       "['./linear_regression_model.pkl']"
      ]
     },
     "execution_count": 2,
     "metadata": {},
     "output_type": "execute_result"
    }
   ],
   "source": [
    "import pandas as pd\n",
    "import joblib\n",
    "from sklearn.model_selection import train_test_split\n",
    "from sklearn.linear_model import LinearRegression\n",
    "\n",
    "# Carregar os dados\n",
    "data = pd.read_csv(\"./cardata.csv\")\n",
    "\n",
    "# Separar os dados em variáveis independentes (X) e dependentes (y)\n",
    "x = data.drop(['Selling_Price'], axis=1)\n",
    "y = data['Selling_Price']\n",
    "\n",
    "# Converter variáveis categóricas em variáveis dummy\n",
    "x = pd.get_dummies(x, drop_first=True)\n",
    "\n",
    "# Dividir os dados em conjuntos de treinamento e teste\n",
    "x_train, x_test, y_train, y_test = train_test_split(x, y, test_size=0.2, random_state=1)\n",
    "\n",
    "# Inicializar o modelo de regressão linear\n",
    "model = LinearRegression()\n",
    "\n",
    "# Treinar o modelo\n",
    "model.fit(x_train, y_train)\n",
    "\n",
    "# Definir o caminho onde o modelo será salvo\n",
    "model_path = './linear_regression_model.pkl'\n",
    "\n",
    "# Salvar o modelo treinado usando joblib\n",
    "joblib.dump(model, model_path)\n"
   ]
  }
 ],
 "metadata": {
  "kernelspec": {
   "display_name": ".venv",
   "language": "python",
   "name": "python3"
  },
  "language_info": {
   "codemirror_mode": {
    "name": "ipython",
    "version": 3
   },
   "file_extension": ".py",
   "mimetype": "text/x-python",
   "name": "python",
   "nbconvert_exporter": "python",
   "pygments_lexer": "ipython3",
   "version": "3.11.2"
  }
 },
 "nbformat": 4,
 "nbformat_minor": 2
}
